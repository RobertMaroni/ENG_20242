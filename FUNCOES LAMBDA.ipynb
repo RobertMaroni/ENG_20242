{
  "nbformat": 4,
  "nbformat_minor": 0,
  "metadata": {
    "colab": {
      "provenance": [],
      "authorship_tag": "ABX9TyOgN622ahSat0g0zRY7kyKu",
      "include_colab_link": true
    },
    "kernelspec": {
      "name": "python3",
      "display_name": "Python 3"
    },
    "language_info": {
      "name": "python"
    }
  },
  "cells": [
    {
      "cell_type": "markdown",
      "metadata": {
        "id": "view-in-github",
        "colab_type": "text"
      },
      "source": [
        "<a href=\"https://colab.research.google.com/github/Robwrt04/ENG_20242/blob/main/FUNCOES%20LAMBDA.ipynb\" target=\"_parent\"><img src=\"https://colab.research.google.com/assets/colab-badge.svg\" alt=\"Open In Colab\"/></a>"
      ]
    },
    {
      "cell_type": "code",
      "execution_count": null,
      "metadata": {
        "id": "U4J2klTt3AuA"
      },
      "outputs": [],
      "source": [
        "#1)\n",
        "soma = lambda a,b: a+b\n",
        "\n",
        "#teste:\n",
        "print(soma(5,3))"
      ]
    },
    {
      "cell_type": "code",
      "source": [
        "#2)\n",
        "multi = lambda a,b: a*b\n",
        "\n",
        "#teste:\n",
        "print(multi(4,5))"
      ],
      "metadata": {
        "id": "PhWIY5Il3zAq"
      },
      "execution_count": null,
      "outputs": []
    },
    {
      "cell_type": "code",
      "source": [
        "#3)\n",
        "stri = lambda: len(\"Olá, mundo!\")\n",
        "\n",
        "#teste:\n",
        "print(stri())"
      ],
      "metadata": {
        "id": "o_qVcIc25T7o"
      },
      "execution_count": null,
      "outputs": []
    },
    {
      "cell_type": "code",
      "source": [
        "#4)\n",
        "quad = lambda a: a**2\n",
        "\n",
        "#teste:\n",
        "print(quad(5))"
      ],
      "metadata": {
        "id": "0BOBDX_H6gDH"
      },
      "execution_count": null,
      "outputs": []
    },
    {
      "cell_type": "code",
      "source": [
        "#5)\n",
        "num = [1, 2, 3, 4, 5, 6, 7, 8, 9, 10]\n",
        "pares = list(filter(lambda x: x%2==0, num))\n",
        "\n",
        "#teste:\n",
        "print(pares)"
      ],
      "metadata": {
        "id": "-9Cmgg2W6uEW"
      },
      "execution_count": null,
      "outputs": []
    },
    {
      "cell_type": "code",
      "source": [
        "#6)\n",
        "cubo = lambda a: a**3\n",
        "\n",
        "#teste:\n",
        "print(cubo(3))"
      ],
      "metadata": {
        "id": "xAkTxw-i7QJ6"
      },
      "execution_count": null,
      "outputs": []
    },
    {
      "cell_type": "code",
      "source": [
        "#7)\n",
        "tuplas = [(1, 3), (4, 1), (5, 2), (2, 4)]\n",
        "ordem = sorted(tuplas, key=lambda tupla: tupla[1])\n",
        "\n",
        "#teste:\n",
        "print(ordem)"
      ],
      "metadata": {
        "id": "mPQjnbrJ7hdO"
      },
      "execution_count": null,
      "outputs": []
    },
    {
      "cell_type": "code",
      "source": [
        "#8)\n",
        "temp = lambda x:((x*1.8)+32)\n",
        "\n",
        "#teste:\n",
        "print(temp(0))"
      ],
      "metadata": {
        "id": "ovxU0gk68zeN"
      },
      "execution_count": null,
      "outputs": []
    },
    {
      "cell_type": "code",
      "source": [
        "#9)\n",
        "nomes = [\"Ana\", \"João\", \"Carlos\", \"Beatriz\"]\n",
        "comp = list(map(lambda x: len(x), nomes))\n",
        "\n",
        "#teste:\n",
        "print(comp)"
      ],
      "metadata": {
        "id": "LuixK5CR-utZ"
      },
      "execution_count": null,
      "outputs": []
    },
    {
      "cell_type": "code",
      "source": [
        "#10)\n",
        "numer = [1, 2, 3, 4, 5]\n",
        "redut = reduce(lambda x, y: x + y, numer)\n",
        "\n",
        "\n",
        "#teste:\n",
        "print(redut)"
      ],
      "metadata": {
        "colab": {
          "base_uri": "https://localhost:8080/",
          "height": 211
        },
        "id": "UcL0GBLF_HDX",
        "outputId": "2cfd7b68-8966-4d39-813f-0dd30d8a4799"
      },
      "execution_count": 35,
      "outputs": [
        {
          "output_type": "error",
          "ename": "NameError",
          "evalue": "name 'reduce' is not defined",
          "traceback": [
            "\u001b[0;31m---------------------------------------------------------------------------\u001b[0m",
            "\u001b[0;31mNameError\u001b[0m                                 Traceback (most recent call last)",
            "\u001b[0;32m<ipython-input-35-0abdc2b7233a>\u001b[0m in \u001b[0;36m<cell line: 3>\u001b[0;34m()\u001b[0m\n\u001b[1;32m      1\u001b[0m \u001b[0;31m#10)\u001b[0m\u001b[0;34m\u001b[0m\u001b[0;34m\u001b[0m\u001b[0m\n\u001b[1;32m      2\u001b[0m \u001b[0mnumer\u001b[0m \u001b[0;34m=\u001b[0m \u001b[0;34m[\u001b[0m\u001b[0;36m1\u001b[0m\u001b[0;34m,\u001b[0m \u001b[0;36m2\u001b[0m\u001b[0;34m,\u001b[0m \u001b[0;36m3\u001b[0m\u001b[0;34m,\u001b[0m \u001b[0;36m4\u001b[0m\u001b[0;34m,\u001b[0m \u001b[0;36m5\u001b[0m\u001b[0;34m]\u001b[0m\u001b[0;34m\u001b[0m\u001b[0;34m\u001b[0m\u001b[0m\n\u001b[0;32m----> 3\u001b[0;31m \u001b[0mred\u001b[0m \u001b[0;34m=\u001b[0m \u001b[0mreduce\u001b[0m\u001b[0;34m(\u001b[0m\u001b[0;32mlambda\u001b[0m \u001b[0mx\u001b[0m\u001b[0;34m,\u001b[0m \u001b[0my\u001b[0m\u001b[0;34m:\u001b[0m \u001b[0mx\u001b[0m \u001b[0;34m+\u001b[0m \u001b[0my\u001b[0m\u001b[0;34m,\u001b[0m \u001b[0mnumer\u001b[0m\u001b[0;34m)\u001b[0m\u001b[0;34m\u001b[0m\u001b[0;34m\u001b[0m\u001b[0m\n\u001b[0m\u001b[1;32m      4\u001b[0m \u001b[0;34m\u001b[0m\u001b[0m\n\u001b[1;32m      5\u001b[0m \u001b[0;34m\u001b[0m\u001b[0m\n",
            "\u001b[0;31mNameError\u001b[0m: name 'reduce' is not defined"
          ]
        }
      ]
    },
    {
      "cell_type": "code",
      "source": [],
      "metadata": {
        "id": "7_DObHQL_zKG"
      },
      "execution_count": null,
      "outputs": []
    }
  ]
}