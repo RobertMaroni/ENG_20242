{
  "nbformat": 4,
  "nbformat_minor": 0,
  "metadata": {
    "colab": {
      "provenance": [],
      "authorship_tag": "ABX9TyNMwEHnDNpLZgsU0nqtzZgz",
      "include_colab_link": true
    },
    "kernelspec": {
      "name": "python3",
      "display_name": "Python 3"
    },
    "language_info": {
      "name": "python"
    }
  },
  "cells": [
    {
      "cell_type": "markdown",
      "metadata": {
        "id": "view-in-github",
        "colab_type": "text"
      },
      "source": [
        "<a href=\"https://colab.research.google.com/github/Robwrt04/ENG_20242/blob/main/Atividade1/atv_Exerc%C3%ADcios_fixacao_24102024.ipynb\" target=\"_parent\"><img src=\"https://colab.research.google.com/assets/colab-badge.svg\" alt=\"Open In Colab\"/></a>"
      ]
    },
    {
      "cell_type": "code",
      "execution_count": null,
      "metadata": {
        "id": "XF6CXge8DSGi"
      },
      "outputs": [],
      "source": [
        "#1)\n",
        "lista = [1, 20, 3, 9, 6, 7]\n",
        "for i in lista:\n",
        "  print(f'{i} multiplicado por 2 é: {i*2}')"
      ]
    },
    {
      "cell_type": "code",
      "source": [
        "#2)\n",
        "lista = [\"maçã\", \"banana\", \"laranja\", \"uva\"]\n",
        "ind = lista.index(\"banana\")\n",
        "lista.remove(\"banana\")\n",
        "lista.insert(ind, \"melancia\")\n",
        "print(lista)"
      ],
      "metadata": {
        "id": "0su56ov2FP1G"
      },
      "execution_count": null,
      "outputs": []
    },
    {
      "cell_type": "code",
      "source": [
        "#3)\n",
        "lista = [2,20,80,9,33,24,54]\n",
        "maior = max(lista, key=int)\n",
        "menor = min(lista, key=int)\n",
        "print(f'{lista}\\nMaior número:\\n{maior}\\nMenor número:\\n{menor}')\n"
      ],
      "metadata": {
        "id": "SqQ7t9MCIfxq"
      },
      "execution_count": null,
      "outputs": []
    },
    {
      "cell_type": "code",
      "source": [
        "#4)\n",
        "palavras = ['espanhol', 'francês', 'brasileiro', 'uva']\n",
        "qpalavras = []\n",
        "for i in palavras:\n",
        "  qpalavras.append(len(i))\n",
        "print(qpalavras)"
      ],
      "metadata": {
        "id": "Wm_Lb8LfNggW"
      },
      "execution_count": null,
      "outputs": []
    },
    {
      "cell_type": "code",
      "source": [
        "#5)\n",
        "lista = [2,6,3,4,1,5,9,8]\n",
        "lista.sort(key=int)\n",
        "print(lista)"
      ],
      "metadata": {
        "id": "OVr26QA5TpVL"
      },
      "execution_count": null,
      "outputs": []
    },
    {
      "cell_type": "code",
      "source": [
        "#6)\n",
        "tupla = (1,2,3,4,5)\n",
        "tupla.remove(2)\n",
        "print(tupla)"
      ],
      "metadata": {
        "id": "dWPa4bfTT-RR"
      },
      "execution_count": null,
      "outputs": []
    },
    {
      "cell_type": "code",
      "source": [
        "#7)\n",
        "tupla = (1,3,5,8,3,2)\n",
        "print(sum(tupla))"
      ],
      "metadata": {
        "id": "vdrOosJDtyBQ"
      },
      "execution_count": null,
      "outputs": []
    },
    {
      "cell_type": "code",
      "source": [
        "#8)\n",
        "tupla = (1,5,6,7,2)\n",
        "print(f'primeiro: {tupla[0]}\\nÚltimo: {tupla[-1]}')"
      ],
      "metadata": {
        "id": "ExU2IaPFvRhu"
      },
      "execution_count": null,
      "outputs": []
    },
    {
      "cell_type": "code",
      "source": [
        "#9)\n",
        "lista = [\"a\", \"b\", \"c\", \"d\"]\n",
        "tupla = tuple(lista)\n",
        "print(tupla)"
      ],
      "metadata": {
        "id": "uQxUmqeTvy9G"
      },
      "execution_count": null,
      "outputs": []
    },
    {
      "cell_type": "code",
      "source": [
        "#10)\n",
        "tupla = (1,5,3,'ui')\n",
        "if 3 in tupla:\n",
        "  print(\"3 está em tupla\")\n",
        "else:\n",
        "  print(\"3 não está em tupla\")"
      ],
      "metadata": {
        "id": "qnqia-5Gv-7l"
      },
      "execution_count": null,
      "outputs": []
    },
    {
      "cell_type": "code",
      "source": [
        "#11)\n",
        "set1 = {1, 2, 3, 4}\n",
        "set2 = {3, 4, 5, 6}\n",
        "\n",
        "uniao = set1 | set2\n",
        "print(f'A união é: {uniao}')\n",
        "\n",
        "inters = set1 & set2\n",
        "print(f'A interseção é: {inters}')\n",
        "\n",
        "difer = set1 - set2\n",
        "print(f'A diferença é: {difer}')"
      ],
      "metadata": {
        "id": "wZdDxDPDwhj8"
      },
      "execution_count": null,
      "outputs": []
    },
    {
      "cell_type": "code",
      "source": [
        "#12)\n",
        "lista = [1, 2, 2, 3, 4, 4, 5]\n",
        "setiz = set(lista)\n",
        "print(setiz)"
      ],
      "metadata": {
        "id": "6aa-Lxp2xTGf"
      },
      "execution_count": null,
      "outputs": []
    },
    {
      "cell_type": "code",
      "source": [
        "#13)\n",
        "setiz = {5, 10, 15, 20}\n",
        "setiz.add(25)\n",
        "print(setiz)\n",
        "setiz.remove(15)\n",
        "print(setiz)"
      ],
      "metadata": {
        "id": "UjtcJ8cJyLWH"
      },
      "execution_count": null,
      "outputs": []
    },
    {
      "cell_type": "code",
      "source": [
        "#14)\n",
        "seti = {1, 2, 3, 4, 5}\n",
        "if 7 in seti:\n",
        "  print(\"Existe 7 no SET\")\n",
        "else:\n",
        "  print(\"Não existe 7 no SET\")"
      ],
      "metadata": {
        "id": "uQpULX9uyeUu"
      },
      "execution_count": null,
      "outputs": []
    },
    {
      "cell_type": "code",
      "source": [
        "#15)\n",
        "import random\n",
        "setiz = set()\n",
        "for i in range (10):\n",
        "  setiz.add(i)\n",
        "print(setiz)"
      ],
      "metadata": {
        "id": "5NjMP47VzEOm"
      },
      "execution_count": null,
      "outputs": []
    },
    {
      "cell_type": "code",
      "source": [
        "#16)\n",
        "dicio = {'Nome': 'Ana', 'Idade': 22, 'Curso': 'Engenharia'}\n",
        "dicio['Universidade'] = 'USP'\n",
        "print(dicio)"
      ],
      "metadata": {
        "id": "cITL7piw1z9k"
      },
      "execution_count": null,
      "outputs": []
    },
    {
      "source": [
        "#17)\n",
        "dicion = {'nome': 'Maria', 'idade': 30, 'cidade': 'São Paulo'}\n",
        "for chave, valor in dicion.items():\n",
        "  print(f'Chave: {chave}, Valor: {valor}')"
      ],
      "cell_type": "code",
      "metadata": {
        "id": "ba7vO-hF2-io"
      },
      "execution_count": null,
      "outputs": []
    },
    {
      "cell_type": "code",
      "source": [
        "#18)\n",
        "alunos = {'Joao': [10,8,7,6], 'Maria': [7,8,7,9]}\n",
        "for i in alunos:\n",
        "  print(f'{i}: {sum(alunos[i])/len(alunos[i])}')"
      ],
      "metadata": {
        "id": "m2dIw_zC3EFX"
      },
      "execution_count": null,
      "outputs": []
    },
    {
      "cell_type": "code",
      "source": [
        "#19)\n",
        "dicio = {\"nome\": \"Maria\", \"idade\": 30, \"cidade\": \"São Paulo\"}\n",
        "busca = input(\"Digite a chave que deseja buscar: \")\n",
        "\n",
        "if busca in dicio:\n",
        "  print(f'O valor {busca} é: {dicio[busca]}')\n",
        "else:\n",
        "  print(f'O valor {busca} não está no dicionario')"
      ],
      "metadata": {
        "id": "PhHUV75_4Hmb"
      },
      "execution_count": null,
      "outputs": []
    },
    {
      "cell_type": "code",
      "source": [
        "#20)\n",
        "itens = {'pão': 2.50, 'leite': 3.00, 'café': 4.50}\n",
        "for i in itens:\n",
        "  print(f'{i}: {itens[i]} R$')\n",
        "\n",
        "alter = input(\"Qual quer alterar? \")\n",
        "nvpreco = float(input(\"Novo preço: \"))\n",
        "itens[alter] = nvpreco\n",
        "print(itens)"
      ],
      "metadata": {
        "id": "CbyIW8qT5Bgp"
      },
      "execution_count": null,
      "outputs": []
    }
  ]
}