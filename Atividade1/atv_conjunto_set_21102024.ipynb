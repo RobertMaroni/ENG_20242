{
  "cells": [
    {
      "cell_type": "markdown",
      "metadata": {
        "id": "view-in-github",
        "colab_type": "text"
      },
      "source": [
        "<a href=\"https://colab.research.google.com/github/Robwrt04/ENG_20242/blob/main/Atividade1/atv_conjunto_set_21102024.ipynb\" target=\"_parent\"><img src=\"https://colab.research.google.com/assets/colab-badge.svg\" alt=\"Open In Colab\"/></a>"
      ]
    },
    {
      "cell_type": "code",
      "execution_count": null,
      "metadata": {
        "colab": {
          "base_uri": "https://localhost:8080/"
        },
        "id": "PNLAk_aqlWVw",
        "outputId": "ba7cc69b-f81f-45a8-dfcf-a02ae855f850"
      },
      "outputs": [
        {
          "output_type": "stream",
          "name": "stdout",
          "text": [
            "{'maçã', 'uva', 'banana', 'laranja'}\n"
          ]
        }
      ],
      "source": [
        "#1)\n",
        "minha_conj = set()\n",
        "frutas = {\"maçã\", \"banana\", \"laranja\", \"uva\"}\n",
        "print(frutas)"
      ]
    },
    {
      "cell_type": "code",
      "execution_count": null,
      "metadata": {
        "colab": {
          "base_uri": "https://localhost:8080/"
        },
        "id": "dhbmg2vwlZ_x",
        "outputId": "274f2987-31c0-4906-f3c3-39dff9e7c268"
      },
      "outputs": [
        {
          "output_type": "stream",
          "name": "stdout",
          "text": [
            "{'morangos', 'maçã', 'uva', 'banana', 'laranja'}\n"
          ]
        }
      ],
      "source": [
        "#2a)\n",
        "frutas.add(\"morangos\")\n",
        "print(frutas)"
      ]
    },
    {
      "cell_type": "code",
      "execution_count": null,
      "metadata": {
        "colab": {
          "base_uri": "https://localhost:8080/"
        },
        "id": "ZQbwSemglbLp",
        "outputId": "4c160508-193b-438f-ae65-31e4f18dafac"
      },
      "outputs": [
        {
          "output_type": "stream",
          "name": "stdout",
          "text": [
            "{'morangos', 'maçã', 'uva', 'banana', 'laranja'}\n"
          ]
        }
      ],
      "source": [
        "#2b)\n",
        "frutas.add(\"maçã\")\n",
        "print(frutas)"
      ]
    },
    {
      "cell_type": "code",
      "execution_count": null,
      "metadata": {
        "colab": {
          "base_uri": "https://localhost:8080/"
        },
        "id": "-PufJT2sldDU",
        "outputId": "13d9fb18-9b63-4436-cc21-5affff465fdb"
      },
      "outputs": [
        {
          "output_type": "stream",
          "name": "stdout",
          "text": [
            "{'morangos', 'maçã', 'uva', 'laranja'}\n"
          ]
        }
      ],
      "source": [
        "#3)\n",
        "if \"banana\" in frutas:\n",
        "  frutas.remove(\"banana\")\n",
        "  print(frutas)\n",
        "else:\n",
        "  print(\"Não existe o termo 'banana'\")"
      ]
    },
    {
      "cell_type": "code",
      "execution_count": null,
      "metadata": {
        "colab": {
          "base_uri": "https://localhost:8080/"
        },
        "id": "mgQEXa1Flirs",
        "outputId": "9a326336-08d2-4184-ed6f-01e9036b26a0"
      },
      "outputs": [
        {
          "output_type": "stream",
          "name": "stdout",
          "text": [
            "Laranja está em frutas\n"
          ]
        }
      ],
      "source": [
        "#4)\n",
        "if \"laranja\" in frutas:\n",
        "  print(\"Laranja está em frutas\")\n",
        "else:\n",
        "  print(\"laranja não está em frutas :(\")"
      ]
    },
    {
      "cell_type": "code",
      "execution_count": null,
      "metadata": {
        "colab": {
          "base_uri": "https://localhost:8080/"
        },
        "id": "ozeG3_Imli-t",
        "outputId": "92bffe47-5af3-4a72-d632-b9f7a600ad73"
      },
      "outputs": [
        {
          "output_type": "stream",
          "name": "stdout",
          "text": [
            "{'maçã', 'limão', 'uva', 'tangerina', 'laranja', 'morangos'}\n"
          ]
        }
      ],
      "source": [
        "#5)\n",
        "citrus = {\"laranja\", \"limão\", \"tangerina\"}\n",
        "uniao = frutas.union(citrus)\n",
        "print(uniao)"
      ]
    },
    {
      "cell_type": "code",
      "execution_count": null,
      "metadata": {
        "colab": {
          "base_uri": "https://localhost:8080/"
        },
        "id": "Zqeiqr_klkTN",
        "outputId": "9f28ec09-2f08-4234-a1ab-e42791324ea5"
      },
      "outputs": [
        {
          "output_type": "stream",
          "name": "stdout",
          "text": [
            "{'laranja'}\n"
          ]
        }
      ],
      "source": [
        "#6)\n",
        "inter = frutas & citrus #frutas.intersection(citrus)\n",
        "print(inter)"
      ]
    },
    {
      "cell_type": "code",
      "execution_count": null,
      "metadata": {
        "colab": {
          "base_uri": "https://localhost:8080/"
        },
        "id": "qDpPZXflllrt",
        "outputId": "cdc9d37e-9ddc-4d50-d937-dc12687fd8b8"
      },
      "outputs": [
        {
          "output_type": "stream",
          "name": "stdout",
          "text": [
            "{'maçã', 'uva', 'morangos'}\n"
          ]
        }
      ],
      "source": [
        "#7)\n",
        "difer = frutas - citrus\n",
        "print(difer)"
      ]
    },
    {
      "cell_type": "code",
      "execution_count": null,
      "metadata": {
        "id": "biqnpwg5lvhp"
      },
      "outputs": [],
      "source": [
        "#8)\n",
        "citrus.clear()\n",
        "print(citrus)"
      ]
    },
    {
      "cell_type": "code",
      "source": [
        "#9\n",
        "frut = frozenset(frutas)\n",
        "print(frut)"
      ],
      "metadata": {
        "id": "MuLjn7U2pr_n"
      },
      "execution_count": null,
      "outputs": []
    },
    {
      "source": [
        "#10)\n",
        "print(frutas)\n",
        "fruts = len(frutas)\n",
        "print(f'O numero de elementos únicos em frutas é: {fruts}')"
      ],
      "cell_type": "code",
      "metadata": {
        "id": "0kk-EBzqr9Pt"
      },
      "execution_count": null,
      "outputs": []
    }
  ],
  "metadata": {
    "colab": {
      "provenance": [],
      "authorship_tag": "ABX9TyNSlOv5YAxqPcXb1n1pELtZ",
      "include_colab_link": true
    },
    "kernelspec": {
      "display_name": "Python 3",
      "name": "python3"
    },
    "language_info": {
      "name": "python"
    }
  },
  "nbformat": 4,
  "nbformat_minor": 0
}