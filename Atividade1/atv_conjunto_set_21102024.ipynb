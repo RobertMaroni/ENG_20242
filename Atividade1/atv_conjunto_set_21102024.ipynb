
{
  "nbformat": 4,
  "nbformat_minor": 0,
  "metadata": {
    "colab": {
      "provenance": [],
      "authorship_tag": "ABX9TyOMCFzyUkLgTGcce6pPfKwa",
      "include_colab_link": true
    },
    "kernelspec": {
      "name": "python3",
      "display_name": "Python 3"
    },
    "language_info": {
      "name": "python"
    }
  },
  "cells": [
    {
      "cell_type": "markdown",
      "metadata": {
        "id": "view-in-github",
        "colab_type": "text"
      },
      "source": [
        "<a href=\"https://colab.research.google.com/github/Robwrt04/ENG_20242/blob/main/Atividade1/atv_conjunto_set_21102024.ipynb\" target=\"_parent\"><img src=\"https://colab.research.google.com/assets/colab-badge.svg\" alt=\"Open In Colab\"/></a>"
      ]
    },
    {
      "cell_type": "code",
      "execution_count": null,
      "metadata": {
        "id": "IAFAITFG_D-P"
      },
      "outputs": [],
      "source": [
        "frutas = ['maçã', 'pera','banana']\n",
        "frutas.append('uva')\n",
        "print(frutas)"
      ]
    },
    {
      "cell_type": "code",
      "source": [
        "frutas = ('maçã', 'pera','banana')       #QUANDO A LISTA ESTÁ ENTRE (), ELA FICA FIXA E NÃO SE PODE MODIFICAR - TUFAS\n",
        "\n",
        "print(frutas[2])"
      ],
      "metadata": {
        "id": "9FKMTvsA_Vr1"
      },
      "execution_count": null,
      "outputs": []
    },
    {
      "cell_type": "code",
      "source": [
        "dados = {'nome':'Robert', 'Idade': '20', 'País': 'Brasil'}     #QUANDO A LISTA ESTÁ ENTRE {}, ELE VIRA UM DICIONARIO\n",
        "print(dados)"
      ],
      "metadata": {
        "id": "kcZ8nvMO_nIX"
      },
      "execution_count": null,
      "outputs": []
    },
    {
      "cell_type": "code",
      "source": [
        "pessoas = {\n",
        "    'pessoa1' : {\n",
        "        'nome' : 'Robert',\n",
        "        'Idade' : '20',\n",
        "        'nasc' : '18/02'\n",
        "    },\n",
        "    'pessoa2' : {\n",
        "        'nome' : 'João',\n",
        "        'Idade' : '32',\n",
        "        'nasc' : '05/05'\n",
        "    }\n",
        "}\n",
        "\n",
        "print(pessoas['pessoa1']['nome'],pessoas['pessoa1']['nasc'])"
      ],
      "metadata": {
        "id": "MxtSP_ajANme"
      },
      "execution_count": null,
      "outputs": []
    },
    {
      "cell_type": "code",
      "source": [
        "nome3 = input('Digite um novo nome: ')\n",
        "idade3 = input('Digite a idade: ')\n",
        "nasc3 = input('Digite a data de nascimento: ')\n",
        "\n",
        "pessoas = {\n",
        "    'pessoa1' : {\n",
        "        'nome' : 'Robert',\n",
        "        'idade' : '20',\n",
        "        'nasc' : '18/02'\n",
        "    },\n",
        "    'pessoa2' : {\n",
        "        'nome' : 'João',\n",
        "        'idade' : '32',\n",
        "        'nasc' : '05/05'\n",
        "    },\n",
        "    'pessoa3' : {\n",
        "        'nome' : nome3,\n",
        "        'idade' : idade3,\n",
        "        'nasc' : nasc3\n",
        "    }\n",
        "}\n",
        "\n",
        "\n",
        "print(pessoas['pessoa1']['nome'],',',pessoas['pessoa1']['idade'],'anos',',',pessoas['pessoa1']['nasc'])\n",
        "print(pessoas['pessoa2']['nome'],',',pessoas['pessoa2']['idade'],'anos',',',pessoas['pessoa2']['nasc'])\n",
        "print(pessoas['pessoa3']['nome'],',',pessoas['pessoa3']['idade'],'anos',',',pessoas['pessoa3']['nasc'])"
      ],
      "metadata": {
        "id": "TTN_ZJhrCB_s"
      },
      "execution_count": null,
      "outputs": []
    },
    {
      "cell_type": "markdown",
      "source": [
        "ATIVIDADE 10/10"
      ],
      "metadata": {
        "id": "qUlaYe3REuas"
      }
    },
    {
      "cell_type": "code",
      "source": [
        "#!)\n",
        "cidades = ('Vila Velha','Itu','Vitoria','SP','RJ')\n",
        "print(cidades[2])"
      ],
      "metadata": {
        "id": "fv_ltGSwEwPX"
      },
      "execution_count": null,
      "outputs": []
    },
    {
      "cell_type": "code",
      "source": [
        "#2)\n",
        "num = (1, 2, 3, 1, 4, 1)\n",
        "print(f'O número 1 aparece {num.count(1)} vezes')"
      ],
      "metadata": {
        "id": "vC4K6brhF4Ft"
      },
      "execution_count": null,
      "outputs": []
    },
    {
      "cell_type": "code",
      "source": [
        "#3)\n",
        "bicho = ('cachorro', 'gato', 'pássaro')\n",
        "if 'gato' in bicho:\n",
        "  print(\"Gato está em animais\")\n",
        "else:\n",
        "  print(\"Gato não está em animais\")"
      ],
      "metadata": {
        "id": "DElVSW1RGY0G"
      },
      "execution_count": null,
      "outputs": []
    },
    {
      "cell_type": "code",
      "source": [
        "#4)\n",
        "meses = ('janeiro', 'fevereiro', 'março', 'abril', 'maio')\n",
        "print(f'O mês de Abril está na posição: {meses.index(\"abril\")}')"
      ],
      "metadata": {
        "id": "8o1u8SBKHofw"
      },
      "execution_count": null,
      "outputs": []
    },
    {
      "cell_type": "code",
      "source": [
        "#5)\n",
        "lat = input(\"Digite um valor de Latitude: \")\n",
        "longi = input(\"Digite um valor de Latitude: \")\n",
        "\n",
        "\n",
        "coordenadas = (lat, longi)\n",
        "for i in coordenadas:\n",
        "  print(i)"
      ],
      "metadata": {
        "id": "MOtGUGOyIWME"
      },
      "execution_count": null,
      "outputs": []
    },
    {
      "cell_type": "code",
      "source": [
        "#6)\n",
        "carros = {\n",
        "    'Marca' : 'Fiat',\n",
        "    'Modelo' : 'Uno com escada',\n",
        "    'Ano' : '2014'\n",
        "}\n",
        "print(carros)"
      ],
      "metadata": {
        "id": "Jx-vR_-nKX9F"
      },
      "execution_count": null,
      "outputs": []
    },
    {
      "cell_type": "code",
      "source": [
        "#7)\n",
        "carros = {\n",
        "    'Marca' : 'Fiat',\n",
        "    'Modelo' : 'Uno com escada',\n",
        "    'Ano' : '2014'\n",
        "}\n",
        "\n",
        "carros['Cor'] = 'Branco'\n",
        "print(carros)"
      ],
      "metadata": {
        "id": "KrEO807AKz0t"
      },
      "execution_count": null,
      "outputs": []
    },
    {
      "cell_type": "code",
      "source": [
        "#8)\n",
        "pessoa = {'nome': 'João', 'idade': 30, 'cidade': 'São Paulo'}\n",
        "pessoa.pop('idade')\n",
        "print(pessoa)"
      ],
      "metadata": {
        "id": "01t9wiepLKS8"
      },
      "execution_count": null,
      "outputs": []
    },
    {
      "cell_type": "code",
      "source": [
        "#9)\n",
        "produto = {\n",
        "    'nome' : 'biscoito',\n",
        "    'preço' : 'R$ 4,99',\n",
        "    'quantidade' : '1'\n",
        "}\n",
        "\n",
        "for i in produto:\n",
        "  print(f'{i}: {produto[i]}')"
      ],
      "metadata": {
        "id": "3G7OMLYyLbWa"
      },
      "execution_count": null,
      "outputs": []
    },
    {
      "cell_type": "code",
      "source": [
        "#10)\n",
        "estudante = {'nome': 'Maria', 'curso': 'Biologia', 'ano': 2}\n",
        "if 'curso' in estudante:\n",
        "  print(f'A estudante está no curso de Biologia')"
      ],
      "metadata": {
        "id": "xtBialgAMKnm"
      },
      "execution_count": null,
      "outputs": []
    },
    {
      "source": [
        "def ler_afd(nome_arquivo):\n",
        "    \"\"\"Lê um arquivo AFD e retorna um dicionário com as informações do autômato.\n",
        "\n",
        "    Args:\n",
        "        nome_arquivo: O nome do arquivo AFD.\n",
        "\n",
        "    Returns:\n",
        "        Um dicionário com as informações do autômato.\n",
        "    \"\"\"\n",
        "\n",
        "    afd = {}\n",
        "    with open(nome_arquivo, 'r') as arquivo:\n",
        "        for linha in arquivo:\n",
        "            linha = linha.strip()\n",
        "            if linha.startswith('estados'):\n",
        "                afd['estados'] = linha.split(':')[1].split(',')\n",
        "            elif linha.startswith('alfabeto'):\n",
        "                afd['alfabeto'] = linha.split(':')[1].split(',')\n",
        "            elif linha.startswith('inicial'):\n",
        "                afd['inicial'] = linha.split(':')[1]\n",
        "            elif linha.startswith('finais'):\n",
        "                afd['finais'] = linha.split(':')[1].split(',')\n",
        "            elif linha.startswith('transicoes'):\n",
        "                transicoes = []\n",
        "                for transicao in linha.split(':')[1].split(';'):\n",
        "                    estado_atual, simbolo, proximo_estado = transicao.split(',')\n",
        "                    transicoes.append(((estado_atual, simbolo), proximo_estado))\n",
        "                afd['transicoes'] = transicoes\n",
        "\n",
        "    return afd\n",
        "\n",
        "\n",
        "# Exemplo de uso\n",
        "nome_arquivo = 'afd.txt'  # Substitua pelo nome do seu arquivo AFD\n",
        "afd = ler_afd(nome_arquivo)\n",
        "print(afd)"
      ],
      "cell_type": "code",
      "metadata": {
        "id": "HHNjC5jMJaHD"
      },
      "execution_count": null,
      "outputs": []
    },
    {
      "cell_type": "markdown",
      "source": [
        "21/10"
      ],
      "metadata": {
        "id": "Oawxuwu9lTYk"
      }
    },
    {
      "cell_type": "code",
      "source": [
        "#1)\n",
        "minha_conj = set()\n",
        "frutas = {\"maçã\", \"banana\", \"laranja\", \"uva\"}\n",
        "print(frutas)"
      ],
      "metadata": {
        "id": "xntPLcrbr6iX"
      },
      "execution_count": null,
      "outputs": []
    },
    {
      "cell_type": "code",
      "source": [
        "#2a)\n",
        "frutas.add(\"morangos\")\n",
        "print(frutas)"
      ],
      "metadata": {
        "colab": {
          "base_uri": "https://localhost:8080/"
        },
        "id": "wSrJibS-ts_u",
        "outputId": "1c4d98eb-27f8-4d43-af2e-54c1fb2a8256"
      },
      "execution_count": 22,
      "outputs": [
        {
          "output_type": "stream",
          "name": "stdout",
          "text": [
            "{'maçã', 'banana', 'morangos', 'laranja', 'uva'}\n"
          ]
        }
      ]
    },
    {
      "cell_type": "code",
      "source": [
        "#2b)\n",
        "frutas.add(\"maçã\")\n",
        "print(frutas)"
      ],
      "metadata": {
        "colab": {
          "base_uri": "https://localhost:8080/"
        },
        "id": "7H0IFP3PuN9m",
        "outputId": "f32acd0a-ca75-4dde-e1b3-62ce19cab8c0"
      },
      "execution_count": 23,
      "outputs": [
        {
          "output_type": "stream",
          "name": "stdout",
          "text": [
            "{'maçã', 'banana', 'morangos', 'laranja', 'uva'}\n"
          ]
        }
      ]
    },
    {
      "cell_type": "code",
      "source": [
        "#3)\n",
        "if \"banana\" in frutas:\n",
        "  frutas.remove(\"banana\")\n",
        "  print(frutas)\n",
        "else:\n",
        "  print(\"Não existe o termo 'banana'\")"
      ],
      "metadata": {
        "colab": {
          "base_uri": "https://localhost:8080/"
        },
        "id": "I7U8wupsufbt",
        "outputId": "14dbfcfa-461f-4d62-88f8-060baa4e24d2"
      },
      "execution_count": 24,
      "outputs": [
        {
          "output_type": "stream",
          "name": "stdout",
          "text": [
            "{'maçã', 'morangos', 'laranja', 'uva'}\n"
          ]
        }
      ]
    },
    {
      "cell_type": "code",
      "source": [
        "#Extra 3)\n",
        "nova = input(\"Digite uma fruta a ser adicionada: \")\n",
        "if nova in frutas:\n",
        "  frutas.remove(nova)\n",
        "  print(frutas)\n",
        "else:\n",
        "  print(f'Não existe o termo {nova}')"
      ],
      "metadata": {
        "id": "rDKlQBu1vxAl"
      },
      "execution_count": null,
      "outputs": []
    },
    {
      "cell_type": "code",
      "source": [
        "#4)\n",
        "if \"laranja\" in frutas:\n",
        "  print(\"Laranja está em frutas\")\n",
        "else:\n",
        "  print(\"laranja não está em frutas :(\")"
      ],
      "metadata": {
        "id": "lNsTtlx6wP_h"
      },
      "execution_count": null,
      "outputs": []
    },
    {
      "cell_type": "code",
      "source": [
        "#5)\n",
        "citrus = {\"laranja\", \"limão\", \"tangerina\"}\n",
        "uniao = frutas.union(citrus)\n",
        "print(uniao)"
      ],
      "metadata": {
        "colab": {
          "base_uri": "https://localhost:8080/"
        },
        "id": "Oe7bZS_FxeUA",
        "outputId": "29141d7e-b9aa-4764-edbb-0c5985d26eae"
      },
      "execution_count": 32,
      "outputs": [
        {
          "output_type": "stream",
          "name": "stdout",
          "text": [
            "{'maçã', 'banana', 'tangerina', 'laranja', 'limão', 'uva'}\n"
          ]
        }
      ]
    },
    {
      "cell_type": "code",
      "source": [
        "#6)\n",
        "inter = frutas & citrus #frutas.intersection(citrus)\n",
        "print(inter)"
      ],
      "metadata": {
        "colab": {
          "base_uri": "https://localhost:8080/"
        },
        "id": "SLViF8mTywMP",
        "outputId": "66b80b17-2022-4da5-b94c-848b986aee80"
      },
      "execution_count": 34,
      "outputs": [
        {
          "output_type": "stream",
          "name": "stdout",
          "text": [
            "{'laranja'}\n"
          ]
        }
      ]
    },
    {
      "cell_type": "code",
      "source": [
        "#7)\n",
        "difer = frutas - citrus\n",
        "print(difer)"
      ],
      "metadata": {
        "colab": {
          "base_uri": "https://localhost:8080/"
        },
        "id": "eDu1Uyhd08Uh",
        "outputId": "819c7c4b-2bba-41d2-cdd2-bb2ab5b12781"
      },
      "execution_count": 35,
      "outputs": [
        {
          "output_type": "stream",
          "name": "stdout",
          "text": [
            "{'maçã', 'banana', 'uva'}\n"
          ]
        }
      ]
    },
    {
      "cell_type": "code",
      "source": [
        "#8)\n"
      ],
      "metadata": {
        "id": "tNHPm-7L1_UD"
      },
      "execution_count": null,
      "outputs": []
    }
  ]
}
