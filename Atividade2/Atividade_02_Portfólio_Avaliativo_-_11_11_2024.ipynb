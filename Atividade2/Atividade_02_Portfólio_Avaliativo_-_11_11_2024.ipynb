{
  "nbformat": 4,
  "nbformat_minor": 0,
  "metadata": {
    "colab": {
      "provenance": [],
      "authorship_tag": "ABX9TyOrMSGhPlEXuT9IFWHHNKl4",
      "include_colab_link": true
    },
    "kernelspec": {
      "name": "python3",
      "display_name": "Python 3"
    },
    "language_info": {
      "name": "python"
    }
  },
  "cells": [
    {
      "cell_type": "markdown",
      "metadata": {
        "id": "view-in-github",
        "colab_type": "text"
      },
      "source": [
        "<a href=\"https://colab.research.google.com/github/RobertMaroni/ENG_20242/blob/main/Atividade2/Atividade_02_Portf%C3%B3lio_Avaliativo_-_11_11_2024.ipynb\" target=\"_parent\"><img src=\"https://colab.research.google.com/assets/colab-badge.svg\" alt=\"Open In Colab\"/></a>"
      ]
    },
    {
      "cell_type": "code",
      "source": [
        "#LISTA PADRÃO:\n",
        "lista = [1,2,3,4,5,6,7,8,9,10]\n",
        "strings = [\"uva\", \"São Paulo FC\", \"maior\", \"de todos.\", \"Chupa Curintia\"]"
      ],
      "metadata": {
        "id": "dMrLPHO2QdGJ"
      },
      "execution_count": 41,
      "outputs": []
    },
    {
      "cell_type": "code",
      "execution_count": 20,
      "metadata": {
        "id": "QQ9rXvaXyc7Y"
      },
      "outputs": [],
      "source": [
        "#1)\n",
        "def numeros(lista):\n",
        "  impar=[]\n",
        "  for i in lista:\n",
        "    if i%2!=0:\n",
        "      impar.append(i)\n",
        "  return impar"
      ]
    },
    {
      "cell_type": "code",
      "source": [
        "#teste\n",
        "lista = [1,2,3,4,5,6,7,8,9,10]\n",
        "numeros(lista)"
      ],
      "metadata": {
        "id": "UkOlQbbx6W79"
      },
      "execution_count": null,
      "outputs": []
    },
    {
      "cell_type": "code",
      "source": [
        "#2)\n",
        "def dobro_num(lista):\n",
        "  dobro = []\n",
        "  for i in lista:\n",
        "    dobro.append(i*2)\n",
        "  return dobro\n"
      ],
      "metadata": {
        "id": "W0ZP2Zvt7ygQ"
      },
      "execution_count": 22,
      "outputs": []
    },
    {
      "cell_type": "code",
      "source": [
        "#teste\n",
        "lista = [1,2,3,4,5,6,7,8,9,10]\n",
        "dobro_num(lista)"
      ],
      "metadata": {
        "id": "2yQHAKOa8NH5"
      },
      "execution_count": null,
      "outputs": []
    },
    {
      "cell_type": "code",
      "source": [
        "#3)\n",
        "def unico_num(lista_rep):\n",
        "  unicos = list(set(lista_rep))\n",
        "  print(unicos)"
      ],
      "metadata": {
        "id": "qgWOW46L8kM4"
      },
      "execution_count": 18,
      "outputs": []
    },
    {
      "cell_type": "code",
      "source": [
        "#teste\n",
        "lista_rep = [1,1,2,3,4,4,7,7,6]\n",
        "unico_num(lista_rep)"
      ],
      "metadata": {
        "id": "5tEHzhID9T4w"
      },
      "execution_count": null,
      "outputs": []
    },
    {
      "cell_type": "code",
      "source": [
        "#4)\n",
        "def divi_num(lista):\n",
        "  divisor = int(input(\"Digite um valor divisor: \"))\n",
        "  divisores = []\n",
        "  for i in lista:\n",
        "    if i%divisor==0:\n",
        "      divisores.append(i)\n",
        "  return divisores"
      ],
      "metadata": {
        "id": "Sh6YbZKZ9iCX"
      },
      "execution_count": null,
      "outputs": []
    },
    {
      "cell_type": "code",
      "source": [
        "#teste)\n",
        "lista = [1,2,3,4,5,6,7,8,9,10]\n",
        "divi_num(lista)"
      ],
      "metadata": {
        "id": "DU2bahwP-Iu3"
      },
      "execution_count": null,
      "outputs": []
    },
    {
      "cell_type": "code",
      "source": [
        "#5)\n",
        "def elemen_listas(lista_1, lista_2):\n",
        "  lista1 = set(lista_1)\n",
        "  lista2 = set(lista_2)\n",
        "  comuns = list(lista1&lista2)\n",
        "  print(comuns)"
      ],
      "metadata": {
        "id": "66FHsQRy-Vwu"
      },
      "execution_count": null,
      "outputs": []
    },
    {
      "cell_type": "code",
      "source": [
        "#teste)\n",
        "lista_1 = [1,2,3,4,5]\n",
        "lista_2 = [4,5,6,7,8]\n",
        "elemen_listas(lista_1, lista_2)"
      ],
      "metadata": {
        "id": "6N2HS9h__TgZ"
      },
      "execution_count": null,
      "outputs": []
    },
    {
      "cell_type": "code",
      "source": [
        "#6)\n",
        "def invers_list(lista):\n",
        "  lista.reverse()\n",
        "  print(lista)"
      ],
      "metadata": {
        "id": "2tvIuW0G_vdB"
      },
      "execution_count": null,
      "outputs": []
    },
    {
      "cell_type": "code",
      "source": [
        "#teste)\n",
        "lista = [1,2,3,4,5,6,7,8,9,10]\n",
        "invers_list(lista)"
      ],
      "metadata": {
        "id": "LA6Kw3B2BB5q"
      },
      "execution_count": null,
      "outputs": []
    },
    {
      "cell_type": "code",
      "source": [
        "#7)\n",
        "def quadra(lista):\n",
        "  quad = []\n",
        "  for i in lista:\n",
        "    quad.append(i**2)\n",
        "  return quad"
      ],
      "metadata": {
        "id": "2UQXFhNwCNDI"
      },
      "execution_count": 16,
      "outputs": []
    },
    {
      "cell_type": "code",
      "source": [
        "#teste)\n",
        "lista = [1,2,3,4,5,6,7,8,9,10]\n",
        "quadra(lista)"
      ],
      "metadata": {
        "id": "r9ufEFWqNTdZ"
      },
      "execution_count": null,
      "outputs": []
    },
    {
      "cell_type": "code",
      "source": [
        "#8)\n",
        "def maior(lista):\n",
        "  valor = int(input(\"Digite um valor: \"))\n",
        "  maiores = []\n",
        "  for i in lista:\n",
        "    if i>valor:\n",
        "      maiores.append(i)\n",
        "  return maiores"
      ],
      "metadata": {
        "id": "ZVpaESYqNzf5"
      },
      "execution_count": 13,
      "outputs": []
    },
    {
      "cell_type": "code",
      "source": [
        "#teste)\n",
        "lista = [1,2,3,4,5,6,7,8,9,10]\n",
        "maior(lista)"
      ],
      "metadata": {
        "id": "Kmuc3KXvP3Ga"
      },
      "execution_count": null,
      "outputs": []
    },
    {
      "cell_type": "code",
      "source": [
        "#9)\n",
        "def unicos(lista1, lista2):\n",
        "  lista_1 = set(lista1)\n",
        "  lista_2 = set(lista2)\n",
        "  uni = list((lista_1-lista_2) | (lista_2-lista_1))\n",
        "  print(uni)"
      ],
      "metadata": {
        "id": "n5FCwgNeQibs"
      },
      "execution_count": 25,
      "outputs": []
    },
    {
      "cell_type": "code",
      "source": [
        "#teste)\n",
        "lista1 = [1,2,3,4,5,6]\n",
        "lista2 = [4,5,6,7,8,9]\n",
        "unicos(lista1, lista2)"
      ],
      "metadata": {
        "id": "G-YLUPoJbsPY"
      },
      "execution_count": null,
      "outputs": []
    },
    {
      "cell_type": "code",
      "source": [
        "#10)\n",
        "def unic(lista_unicos):\n",
        "  lista_uni = set(lista_unicos)\n",
        "  print(lista_uni)"
      ],
      "metadata": {
        "id": "G5YfOUOacehE"
      },
      "execution_count": 33,
      "outputs": []
    },
    {
      "cell_type": "code",
      "source": [
        "#teste)\n",
        "lista_unicos = [1,1,2,3,4,4,5]\n",
        "unic(lista_unicos)"
      ],
      "metadata": {
        "id": "MANlrQGMcpkl"
      },
      "execution_count": null,
      "outputs": []
    },
    {
      "cell_type": "code",
      "source": [
        "#11)\n",
        "def uni(lista1, lista2):\n",
        "  conj1 = set(lista1)\n",
        "  conj2 = set(lista2)\n",
        "  inters = list(conj1 & conj2)\n",
        "  print(inters)"
      ],
      "metadata": {
        "id": "DuQbJEImcydS"
      },
      "execution_count": 2,
      "outputs": []
    },
    {
      "cell_type": "code",
      "source": [
        "#teste)\n",
        "lista1 = [1,1,2,3,4,5,5]\n",
        "lista2 = [4,4,5,6,7,8,8]\n",
        "uni(lista1, lista2)"
      ],
      "metadata": {
        "id": "8kWh--ChTDI_"
      },
      "execution_count": null,
      "outputs": []
    },
    {
      "cell_type": "code",
      "source": [
        "#12)\n",
        "def dupli(lista_dup):\n",
        "  conj = set()\n",
        "  lis = []\n",
        "  for i in lista_dup:\n",
        "    if i in conj:\n",
        "      lis.append(i)\n",
        "    else:\n",
        "      conj.add(i)\n",
        "  return lis"
      ],
      "metadata": {
        "id": "mj3B2NRYTVOO"
      },
      "execution_count": 10,
      "outputs": []
    },
    {
      "cell_type": "code",
      "source": [
        "lista_dup = [1,1,2,3,4,5,5,6]\n",
        "dupli(lista_dup)"
      ],
      "metadata": {
        "id": "lrCaVsmFVilU"
      },
      "execution_count": null,
      "outputs": []
    },
    {
      "cell_type": "code",
      "source": [
        "#13)\n",
        "def pares(lista):\n",
        "  par = []\n",
        "  for i in lista:\n",
        "    if i%2==0:\n",
        "      par.append(i)\n",
        "  return par"
      ],
      "metadata": {
        "id": "EoIqUsc-V5Ui"
      },
      "execution_count": 12,
      "outputs": []
    },
    {
      "cell_type": "code",
      "source": [
        "#teste)\n",
        "pares(lista)"
      ],
      "metadata": {
        "id": "3iM5nZkXWJPZ"
      },
      "execution_count": null,
      "outputs": []
    },
    {
      "cell_type": "code",
      "source": [
        "#14)\n",
        "def maiores(lista):\n",
        "  valor = int(input(\"Digite um valor: \"))\n",
        "  maior = []\n",
        "  for i in lista:\n",
        "    if i > valor:\n",
        "      maior.append(lista.index(i))\n",
        "  return maior"
      ],
      "metadata": {
        "id": "V0fpbId0WRhT"
      },
      "execution_count": 21,
      "outputs": []
    },
    {
      "cell_type": "code",
      "source": [
        "#teste)\n",
        "maiores(lista)"
      ],
      "metadata": {
        "id": "9g4ggUvMXLTk"
      },
      "execution_count": null,
      "outputs": []
    },
    {
      "cell_type": "code",
      "source": [
        "#15)\n",
        "def tamanho(strings):\n",
        "  tamanhos = []\n",
        "  for i in strings:\n",
        "    tamanhos.append(len(i))\n",
        "  return tamanhos"
      ],
      "metadata": {
        "id": "Ob7fP3e6XfRF"
      },
      "execution_count": 27,
      "outputs": []
    },
    {
      "cell_type": "code",
      "source": [
        "#teste)\n",
        "tamanho(strings)"
      ],
      "metadata": {
        "id": "Zgv4vbksYavE"
      },
      "execution_count": null,
      "outputs": []
    },
    {
      "cell_type": "code",
      "source": [
        "#16)\n",
        "def cubo(lista):\n",
        "  ao_cubo = []\n",
        "  for i in lista:\n",
        "    ao_cubo.append(i**3)\n",
        "  return ao_cubo"
      ],
      "metadata": {
        "id": "lCxgYQ_MYer0"
      },
      "execution_count": 30,
      "outputs": []
    },
    {
      "cell_type": "code",
      "source": [
        "#teste)\n",
        "cubo(lista)"
      ],
      "metadata": {
        "id": "CxyEFBxKY6ps"
      },
      "execution_count": null,
      "outputs": []
    },
    {
      "cell_type": "code",
      "source": [
        "#17)\n",
        "def lista_unicos(lista_repet):\n",
        "  conj = set(lista_repet)\n",
        "  lis = list(conj)\n",
        "  print(lis)"
      ],
      "metadata": {
        "id": "pGSM_YDEZC9J"
      },
      "execution_count": 37,
      "outputs": []
    },
    {
      "cell_type": "code",
      "source": [
        "#teste)\n",
        "lista_repet = [1,1,2,3,4,5,5,6]\n",
        "lista_unicos(lista_repet)"
      ],
      "metadata": {
        "id": "WNh0D5uBaDLa"
      },
      "execution_count": null,
      "outputs": []
    },
    {
      "cell_type": "code",
      "source": [
        "#18)\n",
        "def maiusculas(strings):\n",
        "  maius = []\n",
        "  for i in strings:\n",
        "    if i[0].isupper():\n",
        "      maius.append(i)\n",
        "  return maius"
      ],
      "metadata": {
        "id": "C7Yp_ekhaRBg"
      },
      "execution_count": 39,
      "outputs": []
    },
    {
      "cell_type": "code",
      "source": [
        "#teste)\n",
        "maiusculas(strings)"
      ],
      "metadata": {
        "id": "XeL0cbUQb0Wj"
      },
      "execution_count": null,
      "outputs": []
    },
    {
      "cell_type": "code",
      "source": [
        "#19)\n",
        "def multiplos(lista):\n",
        "  mult = []\n",
        "  for i in lista:\n",
        "    if i%3==0:\n",
        "      mult.append(i)\n",
        "  return mult"
      ],
      "metadata": {
        "id": "Ri0_mgKvb-y4"
      },
      "execution_count": 42,
      "outputs": []
    },
    {
      "cell_type": "code",
      "source": [
        "#teste)\n",
        "multiplos(lista)"
      ],
      "metadata": {
        "id": "QhEa66HrcSC3"
      },
      "execution_count": null,
      "outputs": []
    },
    {
      "cell_type": "code",
      "source": [
        "#20)\n",
        "def ordem(lista1, lista2):\n",
        "  conj1 = set(lista1)\n",
        "  conj2 = set(lista2)\n",
        "  inter = list(conj1 & conj2)\n",
        "  print(inter)"
      ],
      "metadata": {
        "id": "xwtK7uwQcVL8"
      },
      "execution_count": 44,
      "outputs": []
    },
    {
      "cell_type": "code",
      "source": [
        "#teste)\n",
        "lista1 = [1,2,3,4,5,6,7]\n",
        "lista2 = [9,8,7,6,5,4,3]\n",
        "ordem(lista1, lista2)"
      ],
      "metadata": {
        "id": "bY8tXiecdSdO"
      },
      "execution_count": null,
      "outputs": []
    }
  ]
}