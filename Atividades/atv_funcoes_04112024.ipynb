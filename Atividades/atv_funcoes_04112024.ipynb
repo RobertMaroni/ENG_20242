{
  "nbformat": 4,
  "nbformat_minor": 0,
  "metadata": {
    "colab": {
      "provenance": [],
      "authorship_tag": "ABX9TyPdo/+VhOLIJhtWX/XwbfF8",
      "include_colab_link": true
    },
    "kernelspec": {
      "name": "python3",
      "display_name": "Python 3"
    },
    "language_info": {
      "name": "python"
    }
  },
  "cells": [
    {
      "cell_type": "markdown",
      "metadata": {
        "id": "view-in-github",
        "colab_type": "text"
      },
      "source": [
        "<a href=\"https://colab.research.google.com/github/Robwrt04/ENG_20242/blob/main/atv_funcoes_04112024.ipynb\" target=\"_parent\"><img src=\"https://colab.research.google.com/assets/colab-badge.svg\" alt=\"Open In Colab\"/></a>"
      ]
    },
    {
      "cell_type": "code",
      "execution_count": null,
      "metadata": {
        "id": "Tqbdv9R8yBd6"
      },
      "outputs": [],
      "source": [
        "#1)\n",
        "def soma_lista(lista):\n",
        "  soma = 0\n",
        "  for numero in lista:\n",
        "    soma += numero\n",
        "  print(soma)"
      ]
    },
    {
      "cell_type": "code",
      "source": [
        "#1 teste)\n",
        "lista = [1,3,5,4,2]\n",
        "soma_lista(lista)"
      ],
      "metadata": {
        "id": "iPOh_GP3y_S_"
      },
      "execution_count": null,
      "outputs": []
    },
    {
      "cell_type": "code",
      "source": [
        "#2)\n",
        "def inverter_lista(lista):\n",
        "  lista.reverse()\n",
        "  print(lista)"
      ],
      "metadata": {
        "id": "tjuZOa9_zbDH"
      },
      "execution_count": null,
      "outputs": []
    },
    {
      "cell_type": "code",
      "source": [
        "#2 teste)\n",
        "lista = [2,6,4,5,8,1]\n",
        "inverter_lista(lista)"
      ],
      "metadata": {
        "id": "B0cWMpZr1UmS"
      },
      "execution_count": null,
      "outputs": []
    },
    {
      "cell_type": "code",
      "source": [
        "#3)\n",
        "def media_lista(lista):\n",
        "  soma = sum(lista)\n",
        "  qntd = len(lista)\n",
        "  media = soma / qntd\n",
        "  if qntd == 0:\n",
        "    return 0\n",
        "  print(media)"
      ],
      "metadata": {
        "id": "RspWHjZR3XtJ"
      },
      "execution_count": null,
      "outputs": []
    },
    {
      "cell_type": "code",
      "source": [
        "#3 teste)\n",
        "lista = [4,5,2,1]\n",
        "media_lista(lista)"
      ],
      "metadata": {
        "id": "NR8cmlAr4x5J"
      },
      "execution_count": null,
      "outputs": []
    },
    {
      "cell_type": "code",
      "source": [
        "#4)\n",
        "def lista_strings(lista):\n",
        "  tamanho = []\n",
        "  for strings in lista:\n",
        "    tamanho.append(len(strings))\n",
        "  return tamanho\n",
        "  print(tamanho)"
      ],
      "metadata": {
        "id": "2Yd1xQRq5Vqk"
      },
      "execution_count": null,
      "outputs": []
    },
    {
      "cell_type": "code",
      "source": [
        "#4 teste)\n",
        "lista = [\"Estou\", \"Muito\", \"Cansado\", \"AHHHHHHHHHHHHHHH\"]\n",
        "lista_strings(lista)"
      ],
      "metadata": {
        "id": "eQ4lDYem6atD"
      },
      "execution_count": null,
      "outputs": []
    },
    {
      "cell_type": "code",
      "source": [
        "#5)\n",
        "def elementos_lista(lista1, lista2):\n",
        "  lista_1 = set(lista1)\n",
        "  lista_2 = set(lista2)\n",
        "  comuns = list(lista_1&(lista_2))\n",
        "  return comuns\n",
        "  print(comuns)"
      ],
      "metadata": {
        "id": "wvGJHdqB6sMS"
      },
      "execution_count": null,
      "outputs": []
    },
    {
      "cell_type": "code",
      "source": [
        "#5 teste)\n",
        "lista = [2,3,4,5,6]\n",
        "lista1 = [3,2,8,9]\n",
        "elementos_lista(lista, lista1)"
      ],
      "metadata": {
        "id": "9Z_nqCx28UyA"
      },
      "execution_count": null,
      "outputs": []
    },
    {
      "cell_type": "code",
      "source": [
        "#6)\n",
        "def unicos(lista):\n",
        "  sem_duplas = list(set(lista))\n",
        "  print(sem_duplas)"
      ],
      "metadata": {
        "id": "iQB58FZS8kCC"
      },
      "execution_count": 1,
      "outputs": []
    },
    {
      "cell_type": "code",
      "source": [
        "#6 teste)\n",
        "lista = [1,2,2,5,4,4,3,3]\n",
        "unicos(lista)"
      ],
      "metadata": {
        "id": "R4OCcpu7JaMv"
      },
      "execution_count": null,
      "outputs": []
    },
    {
      "cell_type": "code",
      "source": [
        "#7)\n",
        "def pares(lista):\n",
        "  par = []\n",
        "  for i in lista:\n",
        "    if i%2==0:\n",
        "      par.append(i)\n",
        "  return par"
      ],
      "metadata": {
        "id": "7OP_30irJqFU"
      },
      "execution_count": 49,
      "outputs": []
    },
    {
      "cell_type": "code",
      "source": [
        "#7 teste)\n",
        "lista = [1,2,3,4,5,6]\n",
        "pares(lista)"
      ],
      "metadata": {
        "id": "wb9hEVeJKJqT"
      },
      "execution_count": null,
      "outputs": []
    },
    {
      "cell_type": "code",
      "source": [
        "#8)\n",
        "def maior(lista):\n",
        "  mai = max(lista)\n",
        "  print(mai)"
      ],
      "metadata": {
        "id": "TRZSt4XzM_UN"
      },
      "execution_count": 51,
      "outputs": []
    },
    {
      "cell_type": "code",
      "source": [
        "#8 teste)\n",
        "lista= [1,2,3,5,4,8,7,8]\n",
        "maior(lista)"
      ],
      "metadata": {
        "id": "Y-lbIzHiNyC7"
      },
      "execution_count": null,
      "outputs": []
    },
    {
      "cell_type": "code",
      "source": [
        "#9)\n",
        "def orden(lista):\n",
        "  return lista == sorted(lista)"
      ],
      "metadata": {
        "id": "-3n0DDpDN_jV"
      },
      "execution_count": 80,
      "outputs": []
    },
    {
      "cell_type": "code",
      "source": [
        "#9 teste)\n",
        "lista = [1,2,3,4,5,7,6]\n",
        "orden(lista)"
      ],
      "metadata": {
        "id": "F-d0EsiiO1MI"
      },
      "execution_count": null,
      "outputs": []
    },
    {
      "cell_type": "code",
      "source": [
        "#10)\n",
        "def verif(lista1, lista2):\n",
        "  set1 = set(lista1)\n",
        "  set2 = set(lista2)\n",
        "  return set1.issubset(set2) or set2.issubset(set1)"
      ],
      "metadata": {
        "id": "j_lMthP6Q2ce"
      },
      "execution_count": 131,
      "outputs": []
    },
    {
      "cell_type": "code",
      "source": [
        "#10 teste)\n",
        "lista1 = [1,2,3,4]\n",
        "lista2 = [1,2,5]\n",
        "verif(lista1, lista2)"
      ],
      "metadata": {
        "id": "Bz1RW6IsVSrY"
      },
      "execution_count": null,
      "outputs": []
    }
  ]
}
