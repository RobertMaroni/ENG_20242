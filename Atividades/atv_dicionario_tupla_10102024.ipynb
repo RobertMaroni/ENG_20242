{
  "nbformat": 4,
  "nbformat_minor": 0,
  "metadata": {
    "colab": {
      "provenance": [],
      "authorship_tag": "ABX9TyNrArljFjjZPeZnSXqhSNhS",
      "include_colab_link": true
    },
    "kernelspec": {
      "name": "python3",
      "display_name": "Python 3"
    },
    "language_info": {
      "name": "python"
    }
  },
  "cells": [
    {
      "cell_type": "markdown",
      "metadata": {
        "id": "view-in-github",
        "colab_type": "text"
      },
      "source": [
        "<a href=\"https://colab.research.google.com/github/Robwrt04/ENG_20242/blob/main/Atividade%201%5Catv_dicionario_tupla_10102024.ipynb\" target=\"_parent\"><img src=\"https://colab.research.google.com/assets/colab-badge.svg\" alt=\"Open In Colab\"/></a>"
      ]
    },
    {
      "cell_type": "code",
      "execution_count": null,
      "metadata": {
        "id": "IAFAITFG_D-P"
      },
      "outputs": [],
      "source": [
        "frutas = ['maçã', 'pera','banana']\n",
        "frutas.append('uva')\n",
        "print(frutas)"
      ]
    },
    {
      "cell_type": "code",
      "source": [
        "frutas = ('maçã', 'pera','banana')       #QUANDO A LISTA ESTÁ ENTRE (), ELA FICA FIXA E NÃO SE PODE MODIFICAR - TUFAS\n",
        "\n",
        "print(frutas[2])"
      ],
      "metadata": {
        "id": "9FKMTvsA_Vr1"
      },
      "execution_count": null,
      "outputs": []
    },
    {
      "cell_type": "code",
      "source": [
        "dados = {'nome':'Robert', 'Idade': '20', 'País': 'Brasil'}     #QUANDO A LISTA ESTÁ ENTRE {}, ELE VIRA UM DICIONARIO\n",
        "print(dados)"
      ],
      "metadata": {
        "id": "kcZ8nvMO_nIX"
      },
      "execution_count": null,
      "outputs": []
    },
    {
      "cell_type": "code",
      "source": [
        "pessoas = {\n",
        "    'pessoa1' : {\n",
        "        'nome' : 'Robert',\n",
        "        'Idade' : '20',\n",
        "        'nasc' : '18/02'\n",
        "    },\n",
        "    'pessoa2' : {\n",
        "        'nome' : 'João',\n",
        "        'Idade' : '32',\n",
        "        'nasc' : '05/05'\n",
        "    }\n",
        "}\n",
        "\n",
        "print(pessoas['pessoa1']['nome'],pessoas['pessoa1']['nasc'])"
      ],
      "metadata": {
        "id": "MxtSP_ajANme"
      },
      "execution_count": null,
      "outputs": []
    },
    {
      "cell_type": "code",
      "source": [
        "nome3 = input('Digite um novo nome: ')\n",
        "idade3 = input('Digite a idade: ')\n",
        "nasc3 = input('Digite a data de nascimento: ')\n",
        "\n",
        "pessoas = {\n",
        "    'pessoa1' : {\n",
        "        'nome' : 'Robert',\n",
        "        'idade' : '20',\n",
        "        'nasc' : '18/02'\n",
        "    },\n",
        "    'pessoa2' : {\n",
        "        'nome' : 'João',\n",
        "        'idade' : '32',\n",
        "        'nasc' : '05/05'\n",
        "    },\n",
        "    'pessoa3' : {\n",
        "        'nome' : nome3,\n",
        "        'idade' : idade3,\n",
        "        'nasc' : nasc3\n",
        "    }\n",
        "}\n",
        "\n",
        "\n",
        "print(pessoas['pessoa1']['nome'],',',pessoas['pessoa1']['idade'],'anos',',',pessoas['pessoa1']['nasc'])\n",
        "print(pessoas['pessoa2']['nome'],',',pessoas['pessoa2']['idade'],'anos',',',pessoas['pessoa2']['nasc'])\n",
        "print(pessoas['pessoa3']['nome'],',',pessoas['pessoa3']['idade'],'anos',',',pessoas['pessoa3']['nasc'])"
      ],
      "metadata": {
        "id": "TTN_ZJhrCB_s"
      },
      "execution_count": null,
      "outputs": []
    },
    {
      "cell_type": "markdown",
      "source": [
        "ATIVIDADE 10/10"
      ],
      "metadata": {
        "id": "qUlaYe3REuas"
      }
    },
    {
      "cell_type": "code",
      "source": [
        "#!)\n",
        "cidades = ('Vila Velha','Itu','Vitoria','SP','RJ')\n",
        "print(cidades[2])"
      ],
      "metadata": {
        "id": "fv_ltGSwEwPX"
      },
      "execution_count": null,
      "outputs": []
    },
    {
      "cell_type": "code",
      "source": [
        "#2)\n",
        "num = (1, 2, 3, 1, 4, 1)\n",
        "print(f'O número 1 aparece {num.count(1)} vezes')"
      ],
      "metadata": {
        "id": "vC4K6brhF4Ft"
      },
      "execution_count": null,
      "outputs": []
    },
    {
      "cell_type": "code",
      "source": [
        "#3)\n",
        "bicho = ('cachorro', 'gato', 'pássaro')\n",
        "if 'gato' in bicho:\n",
        "  print(\"Gato está em animais\")\n",
        "else:\n",
        "  print(\"Gato não está em animais\")"
      ],
      "metadata": {
        "id": "DElVSW1RGY0G"
      },
      "execution_count": null,
      "outputs": []
    },
    {
      "cell_type": "code",
      "source": [
        "#4)\n",
        "meses = ('janeiro', 'fevereiro', 'março', 'abril', 'maio')\n",
        "print(f'O mês de Abril está na posição: {meses.index(\"abril\")}')"
      ],
      "metadata": {
        "id": "8o1u8SBKHofw"
      },
      "execution_count": null,
      "outputs": []
    },
    {
      "cell_type": "code",
      "source": [
        "#5)\n",
        "lat = input(\"Digite um valor de Latitude: \")\n",
        "longi = input(\"Digite um valor de Latitude: \")\n",
        "\n",
        "\n",
        "coordenadas = (lat, longi)\n",
        "for i in coordenadas:\n",
        "  print(i)"
      ],
      "metadata": {
        "id": "MOtGUGOyIWME"
      },
      "execution_count": null,
      "outputs": []
    },
    {
      "cell_type": "code",
      "source": [
        "#6)\n",
        "carros = {\n",
        "    'Marca' : 'Fiat',\n",
        "    'Modelo' : 'Uno com escada',\n",
        "    'Ano' : '2014'\n",
        "}\n",
        "print(carros)"
      ],
      "metadata": {
        "id": "Jx-vR_-nKX9F"
      },
      "execution_count": null,
      "outputs": []
    },
    {
      "cell_type": "code",
      "source": [
        "#7)\n",
        "carros = {\n",
        "    'Marca' : 'Fiat',\n",
        "    'Modelo' : 'Uno com escada',\n",
        "    'Ano' : '2014'\n",
        "}\n",
        "\n",
        "carros['Cor'] = 'Branco'\n",
        "print(carros)"
      ],
      "metadata": {
        "id": "KrEO807AKz0t"
      },
      "execution_count": null,
      "outputs": []
    },
    {
      "cell_type": "code",
      "source": [
        "#8)\n",
        "pessoa = {'nome': 'João', 'idade': 30, 'cidade': 'São Paulo'}\n",
        "pessoa.pop('idade')\n",
        "print(pessoa)"
      ],
      "metadata": {
        "id": "01t9wiepLKS8"
      },
      "execution_count": null,
      "outputs": []
    },
    {
      "cell_type": "code",
      "source": [
        "#9)\n",
        "produto = {\n",
        "    'nome' : 'biscoito',\n",
        "    'preço' : 'R$ 4,99',\n",
        "    'quantidade' : '1'\n",
        "}\n",
        "\n",
        "for i in produto:\n",
        "  print(f'{i}: {produto[i]}')"
      ],
      "metadata": {
        "id": "3G7OMLYyLbWa"
      },
      "execution_count": null,
      "outputs": []
    },
    {
      "cell_type": "code",
      "source": [
        "#10)\n",
        "estudante = {'nome': 'Maria', 'curso': 'Biologia', 'ano': 2}\n",
        "if 'curso' in estudante:\n",
        "  print(f'A estudante está no curso de Biologia')"
      ],
      "metadata": {
        "id": "xtBialgAMKnm"
      },
      "execution_count": null,
      "outputs": []
    }
  ]
}
