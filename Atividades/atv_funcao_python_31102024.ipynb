{
  "nbformat": 4,
  "nbformat_minor": 0,
  "metadata": {
    "colab": {
      "provenance": [],
      "authorship_tag": "ABX9TyM5QN7Xxo9IgP8+BLaZVqMT",
      "include_colab_link": true
    },
    "kernelspec": {
      "name": "python3",
      "display_name": "Python 3"
    },
    "language_info": {
      "name": "python"
    }
  },
  "cells": [
    {
      "cell_type": "markdown",
      "metadata": {
        "id": "view-in-github",
        "colab_type": "text"
      },
      "source": [
        "<a href=\"https://colab.research.google.com/github/Robwrt04/ENG_20242/blob/main/Atividade%2031-10%5Catv_funcao_python_31102024.ipynb\" target=\"_parent\"><img src=\"https://colab.research.google.com/assets/colab-badge.svg\" alt=\"Open In Colab\"/></a>"
      ]
    },
    {
      "cell_type": "code",
      "execution_count": null,
      "metadata": {
        "id": "8vIM-OV-MEbN"
      },
      "outputs": [],
      "source": [
        "#1)\n",
        "def cidadenome():\n",
        "  nome = input(\"Digite seu nome: \")\n",
        "  cidade = input(\"Digite sua cidade: \")\n",
        "  print(f'Olá, {nome}! Você vive em {cidade}')"
      ]
    },
    {
      "cell_type": "code",
      "source": [
        "#1 teste)\n",
        "cidadenome()"
      ],
      "metadata": {
        "id": "pWbcxSCRNHEk"
      },
      "execution_count": null,
      "outputs": []
    },
    {
      "cell_type": "code",
      "source": [
        "#2)\n",
        "def medidas():\n",
        "  comp = float(input(\"Digite o comprimento do retângulo (cm): \"))\n",
        "  larg = float(input(\"Digite o largura do retângulo (cm): \"))\n",
        "  area = larg*comp\n",
        "  perim = comp*2 + larg*2\n",
        "  print(f'Um retângulo de {comp} cm de comprimento e {larg} cm de largura, tem área de {area} cm² e perímetro de {perim}cm')"
      ],
      "metadata": {
        "id": "i6EIW_RWPzb8"
      },
      "execution_count": null,
      "outputs": []
    },
    {
      "cell_type": "code",
      "source": [
        "#2 teste)\n",
        "medidas()"
      ],
      "metadata": {
        "id": "CbHUpYeeRTsI"
      },
      "execution_count": null,
      "outputs": []
    },
    {
      "cell_type": "code",
      "source": [
        "#3)\n",
        "def metro():\n",
        "  metros = float(input(\"Digite o valor em metros: \"))\n",
        "  cm = metros*100\n",
        "  mili = metros*1000\n",
        "  print(f'{metros} m em centímetros são: {cm:.2f} cm.\\n{metros} m em milímetros são: {mili:.2f} mm.')"
      ],
      "metadata": {
        "id": "Uik1XKVYRyb3"
      },
      "execution_count": null,
      "outputs": []
    },
    {
      "cell_type": "code",
      "source": [
        "#3 teste)\n",
        "metro()"
      ],
      "metadata": {
        "id": "GjCh02qSSkTP"
      },
      "execution_count": null,
      "outputs": []
    },
    {
      "cell_type": "code",
      "source": [
        "#4)\n",
        "def area():\n",
        "  comp = float(input(\"Digite o comprimento do retângulo (cm): \"))\n",
        "  larg = float(input(\"Digite o largura do retângulo (cm): \"))\n",
        "  area = larg*comp\n",
        "  print(f'Um retângulo de {comp} cm de comprimento e {larg} cm de largura, tem área de {area} cm²')\n"
      ],
      "metadata": {
        "id": "MeKRLvEuTflH"
      },
      "execution_count": null,
      "outputs": []
    },
    {
      "cell_type": "code",
      "source": [
        "#4 teste)\n",
        "area()"
      ],
      "metadata": {
        "id": "c9JuxtOqUKNt"
      },
      "execution_count": null,
      "outputs": []
    },
    {
      "cell_type": "code",
      "source": [
        "#5)\n",
        "def idade():\n",
        "  idade1 = int(input(\"Digite a idade da primeira pessoa: \"))\n",
        "  idade2 = int(input(\"Digite a idade da segunda pessoa: \"))\n",
        "  if idade1 > idade2:\n",
        "    print(\"A idade da primeira pessoa é maior que a da segunda\")\n",
        "  elif idade1 < idade2:\n",
        "    print(\"A idade da segunda pessoa é maior que a da primeira\")\n",
        "  else:\n",
        "    print(\"As duas pessoas tem a mesma idade\")"
      ],
      "metadata": {
        "id": "hpE9k-LIU5Cr"
      },
      "execution_count": null,
      "outputs": []
    },
    {
      "cell_type": "code",
      "source": [
        "#5 teste)\n",
        "idade()"
      ],
      "metadata": {
        "id": "KmWvOhk9WRGH"
      },
      "execution_count": null,
      "outputs": []
    },
    {
      "cell_type": "code",
      "source": [
        "#6)\n",
        "def imc():\n",
        "  peso = float(input(\"Digite seu peso em kg: \"))\n",
        "  altura = float(input(\"Digite sua altura em metros: \"))\n",
        "  imc = peso / (altura**2)\n",
        "  print(f'Seu imc é {imc}')"
      ],
      "metadata": {
        "id": "86rRVfvRWev-"
      },
      "execution_count": 4,
      "outputs": []
    },
    {
      "cell_type": "code",
      "source": [
        "#6 teste)\n",
        "imc()"
      ],
      "metadata": {
        "id": "ZUzt6FPetgmz"
      },
      "execution_count": null,
      "outputs": []
    },
    {
      "cell_type": "code",
      "source": [
        "#7)\n",
        "def numero():\n",
        "  num1 = float(input(\"Digite um valor: \"))\n",
        "  num2 = float(input(\"Digite outro valor: \"))\n",
        "  if num1 > num2:\n",
        "    print(f'{num1} é maior que {num2}.')\n",
        "  elif num2 > num1:\n",
        "    print(f'{num2} é maior que {num1}.')\n",
        "  else:\n",
        "    print(\"Os números são iguais.\")"
      ],
      "metadata": {
        "id": "InChX2mWtvfm"
      },
      "execution_count": 6,
      "outputs": []
    },
    {
      "cell_type": "code",
      "source": [
        "#7 teste)\n",
        "numero()"
      ],
      "metadata": {
        "id": "3HL55ipFuUeW"
      },
      "execution_count": null,
      "outputs": []
    },
    {
      "cell_type": "code",
      "source": [
        "#8)\n",
        "def numeros():\n",
        "  num_1 = float(input(\"Digite um valor: \"))\n",
        "  num_2 = float(input(\"Digite outro valor: \"))\n",
        "  num_3 = float(input(\"Digite outro valor: \"))\n",
        "  media = (num_1 + num_2 + num_3)/3\n",
        "  print(f'A media de {num_1}, {num_2} e {num_3} é {media:.2f}.')"
      ],
      "metadata": {
        "id": "CQrs11VXue62"
      },
      "execution_count": 15,
      "outputs": []
    },
    {
      "cell_type": "code",
      "source": [
        "#8 teste)\n",
        "numeros()"
      ],
      "metadata": {
        "id": "Qey0bCQou9Rm"
      },
      "execution_count": null,
      "outputs": []
    },
    {
      "cell_type": "code",
      "source": [
        "#9)\n",
        "import math\n",
        "def cilindro():\n",
        "  raio = float(input(\"Digite o raio do cilindro em metros: \"))\n",
        "  altu = float(input(\"Digite a altura do cilindro em metros: \"))\n",
        "  volume = (raio**2) * altu * math.pi\n",
        "  print(f'O volume do cilindro é {volume:.2f} m³.')"
      ],
      "metadata": {
        "id": "WITmexKSvYB1"
      },
      "execution_count": 20,
      "outputs": []
    },
    {
      "cell_type": "code",
      "source": [
        "#9 teste)\n",
        "cilindro()"
      ],
      "metadata": {
        "id": "dKYwg9g4vyie"
      },
      "execution_count": null,
      "outputs": []
    },
    {
      "cell_type": "code",
      "source": [
        "#10)\n",
        "def palavras():\n",
        "  p1 = input(\"Digite uma palavra: \")\n",
        "  p2 = input(\"Digite outra palavra: \")\n",
        "  if p1 == p2:\n",
        "    print(f'{p1} é igual a {p2}.')\n",
        "  else:\n",
        "    print(f'{p1} é diferente de {p2}.')"
      ],
      "metadata": {
        "id": "V6BFR-8KwptE"
      },
      "execution_count": 24,
      "outputs": []
    },
    {
      "cell_type": "code",
      "source": [
        "#10 teste)\n",
        "palavras()"
      ],
      "metadata": {
        "id": "Qg6vrOYIxclQ"
      },
      "execution_count": null,
      "outputs": []
    }
  ]
}
